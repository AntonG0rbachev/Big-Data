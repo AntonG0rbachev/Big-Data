{
 "cells": [
  {
   "cell_type": "markdown",
   "metadata": {},
   "source": "# Linear Model excecution example "
  },
  {
   "cell_type": "markdown",
   "metadata": {},
   "source": "## import modules"
  },
  {
   "cell_type": "code",
   "metadata": {
    "collapsed": false,
    "ExecuteTime": {
     "end_time": "2025-03-19T19:35:08.478436Z",
     "start_time": "2025-03-19T19:35:08.473002Z"
    }
   },
   "source": [
    "import statsmodels.api as sm\n",
    "import numpy as np"
   ],
   "outputs": [],
   "execution_count": 11
  },
  {
   "cell_type": "markdown",
   "metadata": {},
   "source": "## create semi-random data"
  },
  {
   "cell_type": "code",
   "metadata": {
    "collapsed": true,
    "ExecuteTime": {
     "end_time": "2025-03-19T19:35:08.623789Z",
     "start_time": "2025-03-19T19:35:08.532656Z"
    }
   },
   "source": [
    "predictors = np.random.random(1000).reshape(500,2)\n",
    "target = predictors.dot(np.array([0.4, 0.6])) + np.random.random(500)"
   ],
   "outputs": [],
   "execution_count": 12
  },
  {
   "cell_type": "markdown",
   "metadata": {},
   "source": "## excecute linear regression "
  },
  {
   "cell_type": "code",
   "metadata": {
    "collapsed": true,
    "ExecuteTime": {
     "end_time": "2025-03-19T19:35:08.802859Z",
     "start_time": "2025-03-19T19:35:08.655196Z"
    }
   },
   "source": [
    "lmRegModel = sm.OLS(target,predictors)\n",
    "result = lmRegModel.fit()"
   ],
   "outputs": [],
   "execution_count": 13
  },
  {
   "cell_type": "markdown",
   "metadata": {},
   "source": "## show model results"
  },
  {
   "cell_type": "code",
   "metadata": {
    "collapsed": false,
    "ExecuteTime": {
     "end_time": "2025-03-19T19:35:09.017634Z",
     "start_time": "2025-03-19T19:35:08.833992Z"
    }
   },
   "source": [
    "result.summary()"
   ],
   "outputs": [
    {
     "data": {
      "text/plain": [
       "<class 'statsmodels.iolib.summary.Summary'>\n",
       "\"\"\"\n",
       "                                 OLS Regression Results                                \n",
       "=======================================================================================\n",
       "Dep. Variable:                      y   R-squared (uncentered):                   0.902\n",
       "Model:                            OLS   Adj. R-squared (uncentered):              0.902\n",
       "Method:                 Least Squares   F-statistic:                              2291.\n",
       "Date:                Wed, 19 Mar 2025   Prob (F-statistic):                   6.95e-252\n",
       "Time:                        22:35:08   Log-Likelihood:                         -154.99\n",
       "No. Observations:                 500   AIC:                                      314.0\n",
       "Df Residuals:                     498   BIC:                                      322.4\n",
       "Df Model:                           2                                                  \n",
       "Covariance Type:            nonrobust                                                  \n",
       "==============================================================================\n",
       "                 coef    std err          t      P>|t|      [0.025      0.975]\n",
       "------------------------------------------------------------------------------\n",
       "x1             0.8951      0.037     23.869      0.000       0.821       0.969\n",
       "x2             0.9568      0.037     25.635      0.000       0.883       1.030\n",
       "==============================================================================\n",
       "Omnibus:                       17.200   Durbin-Watson:                   1.908\n",
       "Prob(Omnibus):                  0.000   Jarque-Bera (JB):                8.248\n",
       "Skew:                           0.002   Prob(JB):                       0.0162\n",
       "Kurtosis:                       2.371   Cond. No.                         2.55\n",
       "==============================================================================\n",
       "\n",
       "Notes:\n",
       "[1] R² is computed without centering (uncentered) since the model does not contain a constant.\n",
       "[2] Standard Errors assume that the covariance matrix of the errors is correctly specified.\n",
       "\"\"\""
      ],
      "text/html": [
       "<table class=\"simpletable\">\n",
       "<caption>OLS Regression Results</caption>\n",
       "<tr>\n",
       "  <th>Dep. Variable:</th>            <td>y</td>        <th>  R-squared (uncentered):</th>      <td>   0.902</td> \n",
       "</tr>\n",
       "<tr>\n",
       "  <th>Model:</th>                   <td>OLS</td>       <th>  Adj. R-squared (uncentered):</th> <td>   0.902</td> \n",
       "</tr>\n",
       "<tr>\n",
       "  <th>Method:</th>             <td>Least Squares</td>  <th>  F-statistic:       </th>          <td>   2291.</td> \n",
       "</tr>\n",
       "<tr>\n",
       "  <th>Date:</th>             <td>Wed, 19 Mar 2025</td> <th>  Prob (F-statistic):</th>          <td>6.95e-252</td>\n",
       "</tr>\n",
       "<tr>\n",
       "  <th>Time:</th>                 <td>22:35:08</td>     <th>  Log-Likelihood:    </th>          <td> -154.99</td> \n",
       "</tr>\n",
       "<tr>\n",
       "  <th>No. Observations:</th>      <td>   500</td>      <th>  AIC:               </th>          <td>   314.0</td> \n",
       "</tr>\n",
       "<tr>\n",
       "  <th>Df Residuals:</th>          <td>   498</td>      <th>  BIC:               </th>          <td>   322.4</td> \n",
       "</tr>\n",
       "<tr>\n",
       "  <th>Df Model:</th>              <td>     2</td>      <th>                     </th>              <td> </td>    \n",
       "</tr>\n",
       "<tr>\n",
       "  <th>Covariance Type:</th>      <td>nonrobust</td>    <th>                     </th>              <td> </td>    \n",
       "</tr>\n",
       "</table>\n",
       "<table class=\"simpletable\">\n",
       "<tr>\n",
       "   <td></td>     <th>coef</th>     <th>std err</th>      <th>t</th>      <th>P>|t|</th>  <th>[0.025</th>    <th>0.975]</th>  \n",
       "</tr>\n",
       "<tr>\n",
       "  <th>x1</th> <td>    0.8951</td> <td>    0.037</td> <td>   23.869</td> <td> 0.000</td> <td>    0.821</td> <td>    0.969</td>\n",
       "</tr>\n",
       "<tr>\n",
       "  <th>x2</th> <td>    0.9568</td> <td>    0.037</td> <td>   25.635</td> <td> 0.000</td> <td>    0.883</td> <td>    1.030</td>\n",
       "</tr>\n",
       "</table>\n",
       "<table class=\"simpletable\">\n",
       "<tr>\n",
       "  <th>Omnibus:</th>       <td>17.200</td> <th>  Durbin-Watson:     </th> <td>   1.908</td>\n",
       "</tr>\n",
       "<tr>\n",
       "  <th>Prob(Omnibus):</th> <td> 0.000</td> <th>  Jarque-Bera (JB):  </th> <td>   8.248</td>\n",
       "</tr>\n",
       "<tr>\n",
       "  <th>Skew:</th>          <td> 0.002</td> <th>  Prob(JB):          </th> <td>  0.0162</td>\n",
       "</tr>\n",
       "<tr>\n",
       "  <th>Kurtosis:</th>      <td> 2.371</td> <th>  Cond. No.          </th> <td>    2.55</td>\n",
       "</tr>\n",
       "</table><br/><br/>Notes:<br/>[1] R² is computed without centering (uncentered) since the model does not contain a constant.<br/>[2] Standard Errors assume that the covariance matrix of the errors is correctly specified."
      ],
      "text/latex": "\\begin{center}\n\\begin{tabular}{lclc}\n\\toprule\n\\textbf{Dep. Variable:}    &        y         & \\textbf{  R-squared (uncentered):}      &     0.902   \\\\\n\\textbf{Model:}            &       OLS        & \\textbf{  Adj. R-squared (uncentered):} &     0.902   \\\\\n\\textbf{Method:}           &  Least Squares   & \\textbf{  F-statistic:       }          &     2291.   \\\\\n\\textbf{Date:}             & Wed, 19 Mar 2025 & \\textbf{  Prob (F-statistic):}          & 6.95e-252   \\\\\n\\textbf{Time:}             &     22:35:08     & \\textbf{  Log-Likelihood:    }          &   -154.99   \\\\\n\\textbf{No. Observations:} &         500      & \\textbf{  AIC:               }          &     314.0   \\\\\n\\textbf{Df Residuals:}     &         498      & \\textbf{  BIC:               }          &     322.4   \\\\\n\\textbf{Df Model:}         &           2      & \\textbf{                     }          &             \\\\\n\\textbf{Covariance Type:}  &    nonrobust     & \\textbf{                     }          &             \\\\\n\\bottomrule\n\\end{tabular}\n\\begin{tabular}{lcccccc}\n            & \\textbf{coef} & \\textbf{std err} & \\textbf{t} & \\textbf{P$> |$t$|$} & \\textbf{[0.025} & \\textbf{0.975]}  \\\\\n\\midrule\n\\textbf{x1} &       0.8951  &        0.037     &    23.869  &         0.000        &        0.821    &        0.969     \\\\\n\\textbf{x2} &       0.9568  &        0.037     &    25.635  &         0.000        &        0.883    &        1.030     \\\\\n\\bottomrule\n\\end{tabular}\n\\begin{tabular}{lclc}\n\\textbf{Omnibus:}       & 17.200 & \\textbf{  Durbin-Watson:     } &    1.908  \\\\\n\\textbf{Prob(Omnibus):} &  0.000 & \\textbf{  Jarque-Bera (JB):  } &    8.248  \\\\\n\\textbf{Skew:}          &  0.002 & \\textbf{  Prob(JB):          } &   0.0162  \\\\\n\\textbf{Kurtosis:}      &  2.371 & \\textbf{  Cond. No.          } &     2.55  \\\\\n\\bottomrule\n\\end{tabular}\n%\\caption{OLS Regression Results}\n\\end{center}\n\nNotes: \\newline\n [1] R² is computed without centering (uncentered) since the model does not contain a constant. \\newline\n [2] Standard Errors assume that the covariance matrix of the errors is correctly specified."
     },
     "execution_count": 14,
     "metadata": {},
     "output_type": "execute_result"
    }
   ],
   "execution_count": 14
  },
  {
   "cell_type": "markdown",
   "metadata": {},
   "source": "# K nearest neighbor "
  },
  {
   "cell_type": "markdown",
   "metadata": {},
   "source": "## Imports"
  },
  {
   "cell_type": "code",
   "metadata": {
    "collapsed": false,
    "ExecuteTime": {
     "end_time": "2025-03-19T19:35:09.167998Z",
     "start_time": "2025-03-19T19:35:09.049709Z"
    }
   },
   "source": [
    "from sklearn import neighbors, metrics"
   ],
   "outputs": [],
   "execution_count": 15
  },
  {
   "cell_type": "markdown",
   "metadata": {},
   "source": "## create semi-random data"
  },
  {
   "cell_type": "code",
   "metadata": {
    "collapsed": false,
    "ExecuteTime": {
     "end_time": "2025-03-19T19:35:09.324128Z",
     "start_time": "2025-03-19T19:35:09.199730Z"
    }
   },
   "source": [
    "predictors = np.random.random(1000).reshape(500,2)\n",
    "target = np.around(predictors.dot(np.array([0.4, 0.6])) + np.random.random(500))"
   ],
   "outputs": [],
   "execution_count": 16
  },
  {
   "cell_type": "markdown",
   "metadata": {},
   "source": "## excecute k-neigbors classifier"
  },
  {
   "cell_type": "code",
   "metadata": {
    "collapsed": false,
    "ExecuteTime": {
     "end_time": "2025-03-19T19:35:09.470667Z",
     "start_time": "2025-03-19T19:35:09.354843Z"
    }
   },
   "source": [
    "clf = neighbors.KNeighborsClassifier(n_neighbors=10)\n",
    "knn = clf.fit(predictors,target)"
   ],
   "outputs": [],
   "execution_count": 17
  },
  {
   "cell_type": "markdown",
   "metadata": {},
   "source": "## Model accuracy"
  },
  {
   "cell_type": "code",
   "metadata": {
    "collapsed": false,
    "ExecuteTime": {
     "end_time": "2025-03-19T19:35:09.716975Z",
     "start_time": "2025-03-19T19:35:09.501154Z"
    }
   },
   "source": [
    "knn.score(predictors, target)"
   ],
   "outputs": [
    {
     "data": {
      "text/plain": [
       "0.848"
      ]
     },
     "execution_count": 18,
     "metadata": {},
     "output_type": "execute_result"
    }
   ],
   "execution_count": 18
  },
  {
   "cell_type": "markdown",
   "metadata": {},
   "source": "## score the model (make a prediction)"
  },
  {
   "cell_type": "code",
   "metadata": {
    "collapsed": false,
    "ExecuteTime": {
     "end_time": "2025-03-19T19:35:09.879128Z",
     "start_time": "2025-03-19T19:35:09.739762Z"
    }
   },
   "source": [
    "prediction = knn.predict(predictors)"
   ],
   "outputs": [],
   "execution_count": 19
  },
  {
   "cell_type": "markdown",
   "metadata": {},
   "source": "## Confusion matrix"
  },
  {
   "cell_type": "code",
   "metadata": {
    "collapsed": false,
    "ExecuteTime": {
     "end_time": "2025-03-19T19:35:09.994757Z",
     "start_time": "2025-03-19T19:35:09.902469Z"
    }
   },
   "source": [
    "metrics.confusion_matrix(target,prediction)"
   ],
   "outputs": [
    {
     "data": {
      "text/plain": [
       "array([[  8,  28,   0],\n",
       "       [  5, 405,   2],\n",
       "       [  0,  41,  11]])"
      ]
     },
     "execution_count": 20,
     "metadata": {},
     "output_type": "execute_result"
    }
   ],
   "execution_count": 20
  }
 ],
 "metadata": {
  "kernelspec": {
   "display_name": "Python 3 (ipykernel)",
   "language": "python",
   "name": "python3"
  },
  "language_info": {
   "codemirror_mode": {
    "name": "ipython",
    "version": 2
   },
   "file_extension": ".py",
   "mimetype": "text/x-python",
   "name": "python",
   "nbconvert_exporter": "python",
   "pygments_lexer": "ipython2",
   "version": "2.7.10"
  }
 },
 "nbformat": 4,
 "nbformat_minor": 0
}
